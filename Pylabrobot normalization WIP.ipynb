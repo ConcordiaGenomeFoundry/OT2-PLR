{
 "cells": [
  {
   "cell_type": "code",
   "execution_count": 1,
   "metadata": {},
   "outputs": [
    {
     "name": "stderr",
     "output_type": "stream",
     "text": [
      "c:\\Users\\JBagley\\pyLabRobot source\\.venv\\lib\\site-packages\\tqdm\\auto.py:21: TqdmWarning: IProgress not found. Please update jupyter and ipywidgets. See https://ipywidgets.readthedocs.io/en/stable/user_install.html\n",
      "  from .autonotebook import tqdm as notebook_tqdm\n"
     ]
    }
   ],
   "source": [
    "%load_ext autoreload\n",
    "%autoreload 2\n",
    "from pylabrobot.liquid_handling import LiquidHandler\n",
    "from pylabrobot.liquid_handling.backends.opentrons_backend import OpentronsBackend \n",
    "from pylabrobot.liquid_handling.backends.simulation.simulator_backend import SimulatorBackend\n",
    "from pylabrobot.resources import Coordinate\n",
    "from pylabrobot.resources.opentrons import OTDeck # pylabrobot.liquid_handling.resources is now pylabrobot.resources\n",
    "\n",
    "from pylabrobot.resources.opentrons import (\n",
    "    opentrons_96_tiprack_20ul    \n",
    ")\n",
    "from pylabrobot.resources.corning_costar.plates import  (\n",
    "    Cos_96_Rd\n",
    ")\n",
    "import pandas as pd\n",
    "import gradio as gr\n"
   ]
  },
  {
   "cell_type": "code",
   "execution_count": 2,
   "metadata": {},
   "outputs": [
    {
     "data": {
      "text/plain": [
       "\"\\n\\ndirections = FileUpload(\\n        accept='.csv',  # Accepted file extension e.g. '.txt', '.pdf', 'image/*', 'image/*,.pdf'\\n        multiple=False,  # True to accept multiple files upload else False\\n        description='Upload csv file'\\n    )\\n    \\nSource = Dropdown(\\n    options=supported_plates.keys(),\\n    #value=options[1],\\n    description='Source plate type',\\n    disabled=False,\\n    )\\nDestination = Dropdown(\\n    options=supported_plates.keys(),\\n    #value=options[1],\\n    description='destination plate type',\\n    disabled=False,\\n    )\\n\""
      ]
     },
     "execution_count": 2,
     "metadata": {},
     "output_type": "execute_result"
    }
   ],
   "source": [
    "supported_plates = {'Cos_96_Rd':Cos_96_Rd}\n",
    "'''\n",
    "\n",
    "directions = FileUpload(\n",
    "        accept='.csv',  # Accepted file extension e.g. '.txt', '.pdf', 'image/*', 'image/*,.pdf'\n",
    "        multiple=False,  # True to accept multiple files upload else False\n",
    "        description='Upload csv file'\n",
    "    )\n",
    "    \n",
    "Source = Dropdown(\n",
    "    options=supported_plates.keys(),\n",
    "    #value=options[1],\n",
    "    description='Source plate type',\n",
    "    disabled=False,\n",
    "    )\n",
    "Destination = Dropdown(\n",
    "    options=supported_plates.keys(),\n",
    "    #value=options[1],\n",
    "    description='destination plate type',\n",
    "    disabled=False,\n",
    "    )\n",
    "'''\n",
    "#display(directions)\n",
    "#display(Source)\n",
    "#display(Destination)\n",
    "\n",
    "\n"
   ]
  },
  {
   "cell_type": "markdown",
   "metadata": {},
   "source": [
    "In addition, import the {class}`~pylabrobot.liquid_handling.resources.opentrons.OTDeck`, which represents the deck of the Opentron."
   ]
  },
  {
   "cell_type": "code",
   "execution_count": 3,
   "metadata": {},
   "outputs": [],
   "source": [
    "def prep_deck(device, Source_plate_type, Destination_plate_type):\n",
    "    tip_rack = opentrons_96_tiprack_20ul(name='tip_rack')\n",
    "    source_plate = supported_plates[Source_plate_type](name='source_plate')\n",
    "    destination_plate = supported_plates[Destination_plate_type](name='destination_plate')\n",
    "    \n",
    "    device.deck.assign_child_at_slot(tip_rack, slot=1)\n",
    "    device.deck.assign_child_at_slot(source_plate, slot=2)\n",
    "    device.deck.assign_child_at_slot(destination_plate, slot=3)\n",
    "\n"
   ]
  },
  {
   "cell_type": "code",
   "execution_count": 4,
   "metadata": {},
   "outputs": [],
   "source": [
    "async def program(device, instructions):\n",
    "        \n",
    "    #Source_plate_type = Source.value\n",
    "    #Destination_plate_type = Destination.value\n",
    "    tip_rack: TipRack = device.get_resource('tip_rack')\n",
    "    source_plate: Plate = device.get_resource('source_plate')\n",
    "    destination_plate: Plate = device.get_resource('destination_plate')\n",
    "    \n",
    "    #source_plate = supported_plates[Source_plate_type](name='source_plate')\n",
    "    #destination_plate = supported_plates[Destination_plate_type](name='destination_plate')\n",
    "\n",
    "    pipetting_tracker = pd.DataFrame(columns=instructions.columns)\n",
    "    for i, row in instructions.iterrows():\n",
    "        #tip_source = get_next_tip()\n",
    "        tip_source = 'A1'\n",
    "        await device.pick_up_tips(tip_rack[tip_source])\n",
    "        await device.aspirate(source_plate[row.source_well], vols=[row.volume], offsets_z=[1])\n",
    "        await device.dispense(destination_plate[row.destination_well], vols=[row.volume],  offsets_z=[1])\n",
    "        pipetting_tracker = pd.concat([pipetting_tracker,row])\n",
    "        print(f'{row.volume} transferred from {row.source_well} to {row.destination_well}.')\n",
    "        await device.discard_tips(tip_rack[tip_source])\n",
    "        "
   ]
  },
  {
   "cell_type": "markdown",
   "metadata": {},
   "source": [
    "Create a new liquid handler using `OpentronsBackend` as its backend."
   ]
  },
  {
   "cell_type": "code",
   "execution_count": 5,
   "metadata": {},
   "outputs": [],
   "source": [
    "from time import sleep\n",
    "OT_backend = OpentronsBackend(host=\"169.254.137.37\", port=31950) #169.254.121.96\n",
    "simulator = SimulatorBackend() #169.254.121.96\n",
    "\n",
    "async def run_protocol(source_plate_type, destination_plate_type, directions):\n",
    "    directions = pd.read_csv(directions)\n",
    "    #lh = LiquidHandler(backend=backend, deck=OTDeck())\n",
    "    #sim = LiquidHandler(backend=simulator, deck=OTDeck())   \n",
    "    lh = LiquidHandler(backend=OT_backend, deck=OTDeck())\n",
    "    sim = LiquidHandler(backend=simulator, deck=OTDeck())\n",
    "\n",
    "    await sim.setup()\n",
    "    simulator.wait_for_connection() # wait for the browser to connect\n",
    "    prep_deck(sim, source_plate_type, destination_plate_type)\n",
    "\n",
    "    # disable PLR volume trakcing\n",
    "    from pylabrobot.resources import set_volume_tracking\n",
    "    set_volume_tracking(enabled=False)\n",
    "\n",
    "    # update the simulator state with tips and volume\n",
    "    #await simulator.fill_tip_rack(sim.deck.get_resource(\"tip_rack\"))\n",
    "    #await simulator.adjust_well_volume(sim.deck.get_resource(\"source_plate\"), pattern=[[400]*12]*8)\n",
    "\n",
    "    await program(sim, directions)\n",
    "    sim.close()\n",
    "    return None\n"
   ]
  },
  {
   "cell_type": "code",
   "execution_count": 6,
   "metadata": {},
   "outputs": [],
   "source": [
    "with gr.Blocks() as demo:\n",
    "    plate_options = list(supported_plates.keys())\n",
    "    Source_plate_type = gr.Dropdown(choices=plate_options, label='Select source plate type', value='Cos_96_Rd')\n",
    "    Destination_plate_type = gr.Dropdown(choices=plate_options, label='Select Destination plate type', value='Cos_96_Rd')\n",
    "    instructions = gr.File(label='upload instructions file')\n",
    "    continue_button = gr.Button(\"submit\")\n",
    "    continue_button.click(run_protocol, inputs = [Source_plate_type, Destination_plate_type, instructions])\n",
    "\n",
    "#demo.launch(share=False, debug=True)"
   ]
  },
  {
   "cell_type": "code",
   "execution_count": 7,
   "metadata": {},
   "outputs": [
    {
     "ename": "RuntimeError",
     "evalue": "This event loop is already running",
     "output_type": "error",
     "traceback": [
      "\u001b[1;31m---------------------------------------------------------------------------\u001b[0m",
      "\u001b[1;31mRuntimeError\u001b[0m                              Traceback (most recent call last)",
      "\u001b[1;32mc:\\Users\\JBagley\\pyLabRobot source\\Pylabrobot normalization WIP.ipynb Cell 9\u001b[0m line \u001b[0;36m3\n\u001b[0;32m      <a href='vscode-notebook-cell:/c%3A/Users/JBagley/pyLabRobot%20source/Pylabrobot%20normalization%20WIP.ipynb#X12sZmlsZQ%3D%3D?line=0'>1</a>\u001b[0m \u001b[39mimport\u001b[39;00m \u001b[39masyncio\u001b[39;00m\n\u001b[0;32m      <a href='vscode-notebook-cell:/c%3A/Users/JBagley/pyLabRobot%20source/Pylabrobot%20normalization%20WIP.ipynb#X12sZmlsZQ%3D%3D?line=1'>2</a>\u001b[0m loop \u001b[39m=\u001b[39m asyncio\u001b[39m.\u001b[39mget_event_loop()\n\u001b[1;32m----> <a href='vscode-notebook-cell:/c%3A/Users/JBagley/pyLabRobot%20source/Pylabrobot%20normalization%20WIP.ipynb#X12sZmlsZQ%3D%3D?line=2'>3</a>\u001b[0m loop\u001b[39m.\u001b[39;49mrun_until_complete(asyncio\u001b[39m.\u001b[39;49mensure_future(run_protocol(\u001b[39m'\u001b[39;49m\u001b[39mCos_96_Rd\u001b[39;49m\u001b[39m'\u001b[39;49m, \u001b[39m'\u001b[39;49m\u001b[39mCos_96_Rd\u001b[39;49m\u001b[39m'\u001b[39;49m, \u001b[39m'\u001b[39;49m\u001b[39mtest_transfer.csv\u001b[39;49m\u001b[39m'\u001b[39;49m)))\n\u001b[0;32m      <a href='vscode-notebook-cell:/c%3A/Users/JBagley/pyLabRobot%20source/Pylabrobot%20normalization%20WIP.ipynb#X12sZmlsZQ%3D%3D?line=3'>4</a>\u001b[0m \u001b[39m#asyncio.run(run_protocol('Cos_96_Rd', 'Cos_96_Rd', 'test_transfer.csv'))\u001b[39;00m\n",
      "File \u001b[1;32mC:\\Program Files\\WindowsApps\\PythonSoftwareFoundation.Python.3.10_3.10.3056.0_x64__qbz5n2kfra8p0\\lib\\asyncio\\base_events.py:625\u001b[0m, in \u001b[0;36mBaseEventLoop.run_until_complete\u001b[1;34m(self, future)\u001b[0m\n\u001b[0;32m    614\u001b[0m \u001b[39m\u001b[39m\u001b[39m\"\"\"Run until the Future is done.\u001b[39;00m\n\u001b[0;32m    615\u001b[0m \n\u001b[0;32m    616\u001b[0m \u001b[39mIf the argument is a coroutine, it is wrapped in a Task.\u001b[39;00m\n\u001b[1;32m   (...)\u001b[0m\n\u001b[0;32m    622\u001b[0m \u001b[39mReturn the Future's result, or raise its exception.\u001b[39;00m\n\u001b[0;32m    623\u001b[0m \u001b[39m\"\"\"\u001b[39;00m\n\u001b[0;32m    624\u001b[0m \u001b[39mself\u001b[39m\u001b[39m.\u001b[39m_check_closed()\n\u001b[1;32m--> 625\u001b[0m \u001b[39mself\u001b[39;49m\u001b[39m.\u001b[39;49m_check_running()\n\u001b[0;32m    627\u001b[0m new_task \u001b[39m=\u001b[39m \u001b[39mnot\u001b[39;00m futures\u001b[39m.\u001b[39misfuture(future)\n\u001b[0;32m    628\u001b[0m future \u001b[39m=\u001b[39m tasks\u001b[39m.\u001b[39mensure_future(future, loop\u001b[39m=\u001b[39m\u001b[39mself\u001b[39m)\n",
      "File \u001b[1;32mC:\\Program Files\\WindowsApps\\PythonSoftwareFoundation.Python.3.10_3.10.3056.0_x64__qbz5n2kfra8p0\\lib\\asyncio\\base_events.py:584\u001b[0m, in \u001b[0;36mBaseEventLoop._check_running\u001b[1;34m(self)\u001b[0m\n\u001b[0;32m    582\u001b[0m \u001b[39mdef\u001b[39;00m \u001b[39m_check_running\u001b[39m(\u001b[39mself\u001b[39m):\n\u001b[0;32m    583\u001b[0m     \u001b[39mif\u001b[39;00m \u001b[39mself\u001b[39m\u001b[39m.\u001b[39mis_running():\n\u001b[1;32m--> 584\u001b[0m         \u001b[39mraise\u001b[39;00m \u001b[39mRuntimeError\u001b[39;00m(\u001b[39m'\u001b[39m\u001b[39mThis event loop is already running\u001b[39m\u001b[39m'\u001b[39m)\n\u001b[0;32m    585\u001b[0m     \u001b[39mif\u001b[39;00m events\u001b[39m.\u001b[39m_get_running_loop() \u001b[39mis\u001b[39;00m \u001b[39mnot\u001b[39;00m \u001b[39mNone\u001b[39;00m:\n\u001b[0;32m    586\u001b[0m         \u001b[39mraise\u001b[39;00m \u001b[39mRuntimeError\u001b[39;00m(\n\u001b[0;32m    587\u001b[0m             \u001b[39m'\u001b[39m\u001b[39mCannot run the event loop while another loop is running\u001b[39m\u001b[39m'\u001b[39m)\n",
      "\u001b[1;31mRuntimeError\u001b[0m: This event loop is already running"
     ]
    },
    {
     "name": "stdout",
     "output_type": "stream",
     "text": [
      "Websocket server started at http://127.0.0.1:2121\n",
      "File server started at http://127.0.0.1:1337 . Open this URL in your browser.\n",
      "Websocket server started at http://127.0.0.1:2122\n",
      "File server started at http://127.0.0.1:1337 . Open this URL in your browser.\n"
     ]
    }
   ],
   "source": [
    "import asyncio\n",
    "loop = asyncio.get_event_loop()\n",
    "loop.run_until_complete(asyncio.ensure_future(run_protocol('Cos_96_Rd', 'Cos_96_Rd', 'test_transfer.csv')))\n",
    "#asyncio.run(run_protocol('Cos_96_Rd', 'Cos_96_Rd', 'test_transfer.csv'))"
   ]
  }
 ],
 "metadata": {
  "kernelspec": {
   "display_name": "Python 3 (ipykernel)",
   "language": "python",
   "name": "python3"
  },
  "language_info": {
   "codemirror_mode": {
    "name": "ipython",
    "version": 3
   },
   "file_extension": ".py",
   "mimetype": "text/x-python",
   "name": "python",
   "nbconvert_exporter": "python",
   "pygments_lexer": "ipython3",
   "version": "3.10.11"
  },
  "vscode": {
   "interpreter": {
    "hash": "bf274dfc1b974177267b6b8fba8543eeb0bb4c5d64c637dde420829b05625268"
   }
  }
 },
 "nbformat": 4,
 "nbformat_minor": 2
}
